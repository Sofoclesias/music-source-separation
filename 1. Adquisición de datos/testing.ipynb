{
 "cells": [
  {
   "cell_type": "code",
   "execution_count": 6,
   "metadata": {},
   "outputs": [
    {
     "name": "stderr",
     "output_type": "stream",
     "text": [
      "d:\\Repos\\Universidad\\music-source-separation\\.venv\\Lib\\site-packages\\nussl\\__init__.py:20: UserWarning: Importing musdb failed, likely because ffmpeg or ffprobe are not installed!.\n",
      "  warnings.warn(\n"
     ]
    },
    {
     "ename": "AttributeError",
     "evalue": "module 'scipy.signal' has no attribute 'hamming'",
     "output_type": "error",
     "traceback": [
      "\u001b[1;31m---------------------------------------------------------------------------\u001b[0m",
      "\u001b[1;31mAttributeError\u001b[0m                            Traceback (most recent call last)",
      "Cell \u001b[1;32mIn[6], line 2\u001b[0m\n\u001b[0;32m      1\u001b[0m \u001b[38;5;28;01mimport\u001b[39;00m \u001b[38;5;21;01mscipy\u001b[39;00m\u001b[38;5;21;01m.\u001b[39;00m\u001b[38;5;21;01msignal\u001b[39;00m\n\u001b[1;32m----> 2\u001b[0m \u001b[38;5;28;01mfrom\u001b[39;00m \u001b[38;5;21;01mcommon\u001b[39;00m \u001b[38;5;28;01mimport\u001b[39;00m data, viz\n\u001b[0;32m      3\u001b[0m \u001b[38;5;28;01mimport\u001b[39;00m \u001b[38;5;21;01mnussl\u001b[39;00m\n\u001b[0;32m      4\u001b[0m data\u001b[38;5;241m.\u001b[39mprepare_musdb(\u001b[38;5;124m'\u001b[39m\u001b[38;5;124m~/.nussl/tutorial/\u001b[39m\u001b[38;5;124m'\u001b[39m)\n",
      "File \u001b[1;32md:\\Repos\\Universidad\\music-source-separation\\.venv\\Lib\\site-packages\\common\\__init__.py:1\u001b[0m\n\u001b[1;32m----> 1\u001b[0m \u001b[38;5;28;01mimport\u001b[39;00m \u001b[38;5;21;01mnussl\u001b[39;00m\n\u001b[0;32m      3\u001b[0m \u001b[38;5;66;03m# TODO: Hack for now, PR into nussl.\u001b[39;00m\n\u001b[0;32m      4\u001b[0m nussl\u001b[38;5;241m.\u001b[39mseparation\u001b[38;5;241m.\u001b[39mbase\u001b[38;5;241m.\u001b[39mdeep_mixin\u001b[38;5;241m.\u001b[39mOMITTED_TRANSFORMS \u001b[38;5;241m=\u001b[39m \u001b[38;5;28mlist\u001b[39m(nussl\u001b[38;5;241m.\u001b[39mseparation\u001b[38;5;241m.\u001b[39mbase\u001b[38;5;241m.\u001b[39mdeep_mixin\u001b[38;5;241m.\u001b[39mOMITTED_TRANSFORMS)\n",
      "File \u001b[1;32md:\\Repos\\Universidad\\music-source-separation\\.venv\\Lib\\site-packages\\nussl\\__init__.py:24\u001b[0m\n\u001b[0;32m     20\u001b[0m     warnings\u001b[38;5;241m.\u001b[39mwarn(\n\u001b[0;32m     21\u001b[0m         \u001b[38;5;124m\"\u001b[39m\u001b[38;5;124mImporting musdb failed, likely because ffmpeg or ffprobe are not installed!.\u001b[39m\u001b[38;5;124m\"\u001b[39m)\n\u001b[0;32m     22\u001b[0m     musdb \u001b[38;5;241m=\u001b[39m \u001b[38;5;28;01mNone\u001b[39;00m\n\u001b[1;32m---> 24\u001b[0m \u001b[38;5;28;01mfrom\u001b[39;00m \u001b[38;5;21;01m.\u001b[39;00m\u001b[38;5;21;01mcore\u001b[39;00m \u001b[38;5;28;01mimport\u001b[39;00m AudioSignal, STFTParams\n\u001b[0;32m     25\u001b[0m \u001b[38;5;28;01mfrom\u001b[39;00m \u001b[38;5;21;01m.\u001b[39;00m\u001b[38;5;21;01mcore\u001b[39;00m \u001b[38;5;28;01mimport\u001b[39;00m utils, efz_utils, play_utils, constants, mixing\n\u001b[0;32m     28\u001b[0m \u001b[38;5;28;01mfrom\u001b[39;00m \u001b[38;5;21;01m.\u001b[39;00m \u001b[38;5;28;01mimport\u001b[39;00m core\n",
      "File \u001b[1;32md:\\Repos\\Universidad\\music-source-separation\\.venv\\Lib\\site-packages\\nussl\\core\\__init__.py:62\u001b[0m\n\u001b[0;32m      1\u001b[0m \u001b[38;5;124;03m\"\"\"\u001b[39;00m\n\u001b[0;32m      2\u001b[0m \u001b[38;5;124;03mCore\u001b[39;00m\n\u001b[0;32m      3\u001b[0m \u001b[38;5;124;03m====\u001b[39;00m\n\u001b[1;32m   (...)\u001b[0m\n\u001b[0;32m     59\u001b[0m \n\u001b[0;32m     60\u001b[0m \u001b[38;5;124;03m\"\"\"\u001b[39;00m\n\u001b[1;32m---> 62\u001b[0m \u001b[38;5;28;01mfrom\u001b[39;00m \u001b[38;5;21;01m.\u001b[39;00m\u001b[38;5;21;01maudio_signal\u001b[39;00m \u001b[38;5;28;01mimport\u001b[39;00m AudioSignal, STFTParams\n\u001b[0;32m     63\u001b[0m \u001b[38;5;28;01mfrom\u001b[39;00m \u001b[38;5;21;01m.\u001b[39;00m \u001b[38;5;28;01mimport\u001b[39;00m constants\n\u001b[0;32m     64\u001b[0m \u001b[38;5;28;01mfrom\u001b[39;00m \u001b[38;5;21;01m.\u001b[39;00m \u001b[38;5;28;01mimport\u001b[39;00m efz_utils\n",
      "File \u001b[1;32md:\\Repos\\Universidad\\music-source-separation\\.venv\\Lib\\site-packages\\nussl\\core\\audio_signal.py:16\u001b[0m\n\u001b[0;32m     13\u001b[0m \u001b[38;5;28;01mimport\u001b[39;00m \u001b[38;5;21;01msoundfile\u001b[39;00m \u001b[38;5;28;01mas\u001b[39;00m \u001b[38;5;21;01msf\u001b[39;00m\n\u001b[0;32m     14\u001b[0m \u001b[38;5;28;01mimport\u001b[39;00m \u001b[38;5;21;01mpyloudnorm\u001b[39;00m\n\u001b[1;32m---> 16\u001b[0m \u001b[38;5;28;01mfrom\u001b[39;00m \u001b[38;5;21;01m.\u001b[39;00m \u001b[38;5;28;01mimport\u001b[39;00m constants\n\u001b[0;32m     17\u001b[0m \u001b[38;5;28;01mfrom\u001b[39;00m \u001b[38;5;21;01m.\u001b[39;00m \u001b[38;5;28;01mimport\u001b[39;00m utils\n\u001b[0;32m     18\u001b[0m \u001b[38;5;28;01mfrom\u001b[39;00m \u001b[38;5;21;01m.\u001b[39;00m \u001b[38;5;28;01mimport\u001b[39;00m masks\n",
      "File \u001b[1;32md:\\Repos\\Universidad\\music-source-separation\\.venv\\Lib\\site-packages\\nussl\\core\\constants.py:27\u001b[0m\n\u001b[0;32m     24\u001b[0m EPSILON \u001b[38;5;241m=\u001b[39m \u001b[38;5;241m1e-16\u001b[39m  \u001b[38;5;66;03m#: (float): epsilon for determining small values\u001b[39;00m\n\u001b[0;32m     25\u001b[0m MAX_FREQUENCY \u001b[38;5;241m=\u001b[39m DEFAULT_SAMPLE_RATE \u001b[38;5;241m/\u001b[39m\u001b[38;5;241m/\u001b[39m \u001b[38;5;241m2\u001b[39m  \u001b[38;5;66;03m#: (int): Maximum frequency representable. 22050 Hz\u001b[39;00m\n\u001b[1;32m---> 27\u001b[0m WINDOW_HAMMING \u001b[38;5;241m=\u001b[39m \u001b[43mscipy\u001b[49m\u001b[38;5;241;43m.\u001b[39;49m\u001b[43msignal\u001b[49m\u001b[38;5;241;43m.\u001b[39;49m\u001b[43mhamming\u001b[49m\u001b[38;5;241m.\u001b[39m\u001b[38;5;18m__name__\u001b[39m  \u001b[38;5;66;03m#: (str): Name for calling Hamming window. 'hamming'\u001b[39;00m\n\u001b[0;32m     28\u001b[0m WINDOW_RECTANGULAR \u001b[38;5;241m=\u001b[39m \u001b[38;5;124m'\u001b[39m\u001b[38;5;124mrectangular\u001b[39m\u001b[38;5;124m'\u001b[39m  \u001b[38;5;66;03m#: (str): Name for calling Rectangular window. 'rectangular'\u001b[39;00m\n\u001b[0;32m     29\u001b[0m WINDOW_HANN \u001b[38;5;241m=\u001b[39m scipy\u001b[38;5;241m.\u001b[39msignal\u001b[38;5;241m.\u001b[39mhann\u001b[38;5;241m.\u001b[39m\u001b[38;5;18m__name__\u001b[39m  \u001b[38;5;66;03m#: (str): Name for calling Hann window. 'hann'\u001b[39;00m\n",
      "\u001b[1;31mAttributeError\u001b[0m: module 'scipy.signal' has no attribute 'hamming'"
     ]
    }
   ],
   "source": [
    "import scipy.signal\n",
    "from common import data, viz\n",
    "import nussl\n",
    "data.prepare_musdb('~/.nussl/tutorial/')"
   ]
  },
  {
   "cell_type": "code",
   "execution_count": null,
   "metadata": {},
   "outputs": [],
   "source": [
    "scipy.signal.ha"
   ]
  },
  {
   "cell_type": "code",
   "execution_count": null,
   "metadata": {},
   "outputs": [],
   "source": [
    "https://diariocorreo.pe/peru/detectan-dos-casos-de-antrax-en-sama-inclan-526321/"
   ]
  }
 ],
 "metadata": {
  "kernelspec": {
   "display_name": ".venv",
   "language": "python",
   "name": "python3"
  },
  "language_info": {
   "codemirror_mode": {
    "name": "ipython",
    "version": 3
   },
   "file_extension": ".py",
   "mimetype": "text/x-python",
   "name": "python",
   "nbconvert_exporter": "python",
   "pygments_lexer": "ipython3",
   "version": "3.11.0"
  }
 },
 "nbformat": 4,
 "nbformat_minor": 2
}
