{
 "cells": [
  {
   "cell_type": "code",
   "execution_count": 2,
   "metadata": {},
   "outputs": [],
   "source": [
    "import numpy as np\n",
    "np.float_ = np.float64\n",
    "np.Inf = np.inf\n",
    "import os\n",
    "import soundfile as sf\n",
    "from tqdm import tqdm\n",
    "import pandas as pd\n",
    "import os\n",
    "import re\n",
    "from utils import *\n",
    "import warnings\n",
    "warnings.filterwarnings('ignore')"
   ]
  },
  {
   "cell_type": "markdown",
   "metadata": {},
   "source": [
    "## 1. Adquisición y organización de los datasets"
   ]
  },
  {
   "cell_type": "code",
   "execution_count": 2,
   "metadata": {},
   "outputs": [],
   "source": [
    "datasets, musdb18, musicnet, synthsod = [], [], [], []\n",
    "\n",
    "for root, subdir, files in os.walk(r'untreated_dataset\\\\musdb18hq'):\n",
    "    for file in files:\n",
    "        if file in ['vocals.wav','drums.wav','bass.wav']:\n",
    "            musdb18.append(os.path.join(root,file))\n",
    "\n",
    "for root, subdir, files in os.walk(r'untreated_dataset\\\\musicnet'):\n",
    "    for file in files:\n",
    "        if '.wav' in file:\n",
    "            musicnet.append(os.path.join(root,file))\n",
    "\n",
    "for root, subdir, files in os.walk(r'untreated_dataset\\\\synthsod'):\n",
    "    if 'Tree' not in root:\n",
    "        continue\n",
    "    for file in files:\n",
    "        if '.flac' in file:\n",
    "            synthsod.append(os.path.join(root,file))\n",
    "            \n",
    "datasets.extend(musdb18)\n",
    "datasets.extend(musicnet)\n",
    "datasets.extend(synthsod)"
   ]
  },
  {
   "cell_type": "code",
   "execution_count": 3,
   "metadata": {},
   "outputs": [
    {
     "data": {
      "text/plain": [
       "stem\n",
       "strings      1853\n",
       "accoustic    1585\n",
       "              196\n",
       "piano         186\n",
       "Name: count, dtype: int64"
      ]
     },
     "execution_count": 3,
     "metadata": {},
     "output_type": "execute_result"
    }
   ],
   "source": [
    "# id | dataset | title | stem | spec | directory |\n",
    "\n",
    "def search(string):\n",
    "    stems_dict = {\n",
    "        'piano':['piano','harpsichord'],\n",
    "        'accoustic':['horn', 'trombone', 'trumpet', 'tuba', 'bassoon', 'clarinet', 'coranglais', 'flute', 'oboe', 'piccolo'],\n",
    "        'strings':['bass','cello','harp','viola','violin','violin_1','violin_2','string','strings']\n",
    "        }\n",
    "    \n",
    "    for key, stems in stems_dict.items():\n",
    "        for stem in stems:\n",
    "            if stem in string:\n",
    "                return key\n",
    "    return ''\n",
    "    \n",
    "metadata = {\n",
    "    'dataset':[],\n",
    "    'title':[],\n",
    "    'stem':[],\n",
    "    'spec':[],\n",
    "    'formerdir':[]\n",
    "}\n",
    "\n",
    "mn_metadata = pd.read_csv(r'untreated_dataset\\musicnet\\musicnet_metadata.csv')\n",
    "\n",
    "for direc in datasets:\n",
    "    parsed = re.split(r'\\\\+',direc)\n",
    "    \n",
    "    if 'musdb18hq' in direc:\n",
    "        metadata['dataset'] += ['musdb18hq']\n",
    "        metadata['title'] += [parsed[-2].lower()]\n",
    "        metadata['stem'] += [parsed[-1].split('.')[0]]\n",
    "        metadata['spec'] += [parsed[-1].split('.')[0]]\n",
    "        metadata['formerdir'] += [direc]\n",
    "    elif 'musicnet' in direc:\n",
    "        row = mn_metadata.loc[mn_metadata['id']==int(parsed[-1].split('.')[0])]\n",
    "        spec = row.iat[0,4].lower()\n",
    "        \n",
    "        metadata['dataset'] += ['musicnet']\n",
    "        metadata['title'] += [row['composition']]\n",
    "        metadata['stem'] += [search(spec)]\n",
    "        metadata['spec'] += [spec]\n",
    "        metadata['formerdir'] += [direc]\n",
    "    elif 'synthsod' in direc:\n",
    "        spec = parsed[-1].split('.')[0].lower()\n",
    "        \n",
    "        metadata['dataset'] += ['synthsod']\n",
    "        metadata['title'] += [parsed[-3]]\n",
    "        metadata['stem'] += [search(spec)]\n",
    "        metadata['spec'] += [spec]\n",
    "        metadata['formerdir'] += [direc]\n",
    "    else:\n",
    "        pass\n",
    "\n",
    "pd.DataFrame(metadata)['stem'].value_counts()"
   ]
  },
  {
   "cell_type": "code",
   "execution_count": 4,
   "metadata": {},
   "outputs": [
    {
     "data": {
      "text/html": [
       "<div>\n",
       "<style scoped>\n",
       "    .dataframe tbody tr th:only-of-type {\n",
       "        vertical-align: middle;\n",
       "    }\n",
       "\n",
       "    .dataframe tbody tr th {\n",
       "        vertical-align: top;\n",
       "    }\n",
       "\n",
       "    .dataframe thead th {\n",
       "        text-align: right;\n",
       "    }\n",
       "</style>\n",
       "<table border=\"1\" class=\"dataframe\">\n",
       "  <thead>\n",
       "    <tr style=\"text-align: right;\">\n",
       "      <th></th>\n",
       "      <th>dataset</th>\n",
       "      <th>title</th>\n",
       "      <th>stem</th>\n",
       "      <th>spec</th>\n",
       "      <th>formerdir</th>\n",
       "    </tr>\n",
       "  </thead>\n",
       "  <tbody>\n",
       "    <tr>\n",
       "      <th>0</th>\n",
       "      <td>synthsod</td>\n",
       "      <td>symphony_102_2_orch</td>\n",
       "      <td>strings</td>\n",
       "      <td>violin_1</td>\n",
       "      <td>untreated_dataset\\\\synthsod\\SynthSOD_data\\symp...</td>\n",
       "    </tr>\n",
       "    <tr>\n",
       "      <th>1</th>\n",
       "      <td>synthsod</td>\n",
       "      <td>string_quartet_9_2_orch</td>\n",
       "      <td>strings</td>\n",
       "      <td>violin_2</td>\n",
       "      <td>untreated_dataset\\\\synthsod\\SynthSOD_data\\stri...</td>\n",
       "    </tr>\n",
       "    <tr>\n",
       "      <th>2</th>\n",
       "      <td>synthsod</td>\n",
       "      <td>string_quartet_15_1_orch</td>\n",
       "      <td>strings</td>\n",
       "      <td>violin_2</td>\n",
       "      <td>untreated_dataset\\\\synthsod\\SynthSOD_data\\stri...</td>\n",
       "    </tr>\n",
       "    <tr>\n",
       "      <th>3</th>\n",
       "      <td>synthsod</td>\n",
       "      <td>minor_works_hess-245_orch</td>\n",
       "      <td>strings</td>\n",
       "      <td>violin_2</td>\n",
       "      <td>untreated_dataset\\\\synthsod\\SynthSOD_data\\mino...</td>\n",
       "    </tr>\n",
       "    <tr>\n",
       "      <th>4</th>\n",
       "      <td>synthsod</td>\n",
       "      <td>symphony_093_2_orch</td>\n",
       "      <td>strings</td>\n",
       "      <td>viola</td>\n",
       "      <td>untreated_dataset\\\\synthsod\\SynthSOD_data\\symp...</td>\n",
       "    </tr>\n",
       "    <tr>\n",
       "      <th>...</th>\n",
       "      <td>...</td>\n",
       "      <td>...</td>\n",
       "      <td>...</td>\n",
       "      <td>...</td>\n",
       "      <td>...</td>\n",
       "    </tr>\n",
       "    <tr>\n",
       "      <th>445</th>\n",
       "      <td>synthsod</td>\n",
       "      <td>symphony_6_3-5_orch</td>\n",
       "      <td>accoustic</td>\n",
       "      <td>flute</td>\n",
       "      <td>untreated_dataset\\\\synthsod\\SynthSOD_data\\symp...</td>\n",
       "    </tr>\n",
       "    <tr>\n",
       "      <th>446</th>\n",
       "      <td>synthsod</td>\n",
       "      <td>mass_in_f_3_orch</td>\n",
       "      <td>accoustic</td>\n",
       "      <td>trombone</td>\n",
       "      <td>untreated_dataset\\\\synthsod\\SynthSOD_data\\mass...</td>\n",
       "    </tr>\n",
       "    <tr>\n",
       "      <th>447</th>\n",
       "      <td>synthsod</td>\n",
       "      <td>symphony_2_3_orch</td>\n",
       "      <td>accoustic</td>\n",
       "      <td>horn</td>\n",
       "      <td>untreated_dataset\\\\synthsod\\SynthSOD_data\\symp...</td>\n",
       "    </tr>\n",
       "    <tr>\n",
       "      <th>448</th>\n",
       "      <td>synthsod</td>\n",
       "      <td>sonata_in_g_i_4_orch</td>\n",
       "      <td>accoustic</td>\n",
       "      <td>trombone</td>\n",
       "      <td>untreated_dataset\\\\synthsod\\SynthSOD_data\\sona...</td>\n",
       "    </tr>\n",
       "    <tr>\n",
       "      <th>449</th>\n",
       "      <td>synthsod</td>\n",
       "      <td>divertimento_270_1_orch</td>\n",
       "      <td>accoustic</td>\n",
       "      <td>oboe</td>\n",
       "      <td>untreated_dataset\\\\synthsod\\SynthSOD_data\\dive...</td>\n",
       "    </tr>\n",
       "  </tbody>\n",
       "</table>\n",
       "<p>450 rows × 5 columns</p>\n",
       "</div>"
      ],
      "text/plain": [
       "      dataset                      title       stem      spec  \\\n",
       "0    synthsod        symphony_102_2_orch    strings  violin_1   \n",
       "1    synthsod    string_quartet_9_2_orch    strings  violin_2   \n",
       "2    synthsod   string_quartet_15_1_orch    strings  violin_2   \n",
       "3    synthsod  minor_works_hess-245_orch    strings  violin_2   \n",
       "4    synthsod        symphony_093_2_orch    strings     viola   \n",
       "..        ...                        ...        ...       ...   \n",
       "445  synthsod        symphony_6_3-5_orch  accoustic     flute   \n",
       "446  synthsod           mass_in_f_3_orch  accoustic  trombone   \n",
       "447  synthsod          symphony_2_3_orch  accoustic      horn   \n",
       "448  synthsod       sonata_in_g_i_4_orch  accoustic  trombone   \n",
       "449  synthsod    divertimento_270_1_orch  accoustic      oboe   \n",
       "\n",
       "                                             formerdir  \n",
       "0    untreated_dataset\\\\synthsod\\SynthSOD_data\\symp...  \n",
       "1    untreated_dataset\\\\synthsod\\SynthSOD_data\\stri...  \n",
       "2    untreated_dataset\\\\synthsod\\SynthSOD_data\\stri...  \n",
       "3    untreated_dataset\\\\synthsod\\SynthSOD_data\\mino...  \n",
       "4    untreated_dataset\\\\synthsod\\SynthSOD_data\\symp...  \n",
       "..                                                 ...  \n",
       "445  untreated_dataset\\\\synthsod\\SynthSOD_data\\symp...  \n",
       "446  untreated_dataset\\\\synthsod\\SynthSOD_data\\mass...  \n",
       "447  untreated_dataset\\\\synthsod\\SynthSOD_data\\symp...  \n",
       "448  untreated_dataset\\\\synthsod\\SynthSOD_data\\sona...  \n",
       "449  untreated_dataset\\\\synthsod\\SynthSOD_data\\dive...  \n",
       "\n",
       "[450 rows x 5 columns]"
      ]
     },
     "execution_count": 4,
     "metadata": {},
     "output_type": "execute_result"
    }
   ],
   "source": [
    "df_meta = pd.DataFrame(metadata)\n",
    "df_meta = pd.concat([\n",
    "        df_meta.loc[df_meta['stem'].isin(['vocals','bass','drums'])],\n",
    "        df_meta.loc[df_meta['stem']=='strings'].sample(n=150),\n",
    "        df_meta.loc[df_meta['stem']=='piano'].sample(n=150),\n",
    "        df_meta.loc[df_meta['stem']=='accoustic'].sample(n=150)\n",
    "    ],axis=0,ignore_index=True)\n",
    "df_meta"
   ]
  },
  {
   "cell_type": "code",
   "execution_count": 12,
   "metadata": {},
   "outputs": [],
   "source": [
    "from pydub.utils import which\n",
    "from pydub import AudioSegment\n",
    "import shutil\n",
    "\n",
    "AudioSegment.converter = which(\"ffmpeg\")\n",
    "\n",
    "dirs = []\n",
    "for index, serie in df_meta.iterrows():\n",
    "    newdir = f\"stems/{serie['stem']}/{serie['stem']}_{serie['title']}_{index}.wav\"\n",
    "    if serie['dataset']=='synthsod':\n",
    "        flac = AudioSegment.from_file(serie['formerdir'],format=\"flac\")\n",
    "        flac.export(newdir, format='wav')\n",
    "    else:\n",
    "        try:\n",
    "            shutil.move(serie['formerdir'],newdir)\n",
    "        except:\n",
    "            pass\n",
    "        \n",
    "    dirs.append(newdir)\n",
    "    \n",
    "df_meta['newdir'] = dirs\n",
    "df_meta.to_json('metadata.json')"
   ]
  },
  {
   "cell_type": "markdown",
   "metadata": {},
   "source": [
    "## 2. Preparación y preprocesamiento de datos"
   ]
  },
  {
   "cell_type": "code",
   "execution_count": null,
   "metadata": {},
   "outputs": [],
   "source": [
    "file_count = sum(len(files) for _, _, files in os.walk('stems'))\n",
    "\n",
    "with tqdm(total=file_count) as pbar:\n",
    "    for root, _, files in os.walk('stems'):\n",
    "        for file in files:\n",
    "            path = os.path.join(root,file)\n",
    "            audio = remove_silence(path)\n",
    "            sf.write(path,audio,44100)\n",
    "            pbar.update(1)"
   ]
  },
  {
   "cell_type": "code",
   "execution_count": 4,
   "metadata": {},
   "outputs": [
    {
     "name": "stdout",
     "output_type": "stream",
     "text": [
      "Creada carpeta temporal para resguardar memoria.\n",
      "\n",
      "Confeccionando mixes aleatorios.\n"
     ]
    },
    {
     "name": "stderr",
     "output_type": "stream",
     "text": [
      "100%|██████████| 1000/1000 [1:29:32<00:00,  5.37s/it]\n"
     ]
    },
    {
     "name": "stdout",
     "output_type": "stream",
     "text": [
      "\n",
      "Fusión de archivos .jams\n"
     ]
    },
    {
     "name": "stderr",
     "output_type": "stream",
     "text": [
      "100%|██████████| 1000/1000 [00:04<00:00, 207.36it/s]\n"
     ]
    },
    {
     "name": "stdout",
     "output_type": "stream",
     "text": [
      "Creación de metadata terminada. Eliminada carpeta temporal.\n",
      "\n",
      "Creada carpeta temporal para resguardar memoria.\n",
      "\n",
      "Reconstrucción de audios.\n"
     ]
    },
    {
     "name": "stderr",
     "output_type": "stream",
     "text": [
      "100%|██████████| 1000/1000 [26:53<00:00,  1.61s/it]\n"
     ]
    }
   ],
   "source": [
    "mixer = cacophony()\n",
    "mixer.generate_random(1000)\n",
    "X, Y = mixer.read_from_jams()"
   ]
  },
  {
   "cell_type": "markdown",
   "metadata": {},
   "source": [
    "### 1000 mixes\n",
    "\n",
    "Tiempo:\n",
    "* Confección de mixes -> 1:29:32, 5.37s/it\n",
    "* Fusión de archivos .jams -> 0:04, 207.36it/s\n",
    "* Reconstrucción de audios -> 26:53, 1.61s/it\n",
    "* Wall time -> 2:00:16\n",
    "\n",
    "Recursos (SSD DDR5, 16 GBs):\n",
    "* Máxima velocidad de lectura -> 71 MB/s\n",
    "* Máximo espacio de almacenamiento volátil -> 12.687 MB (78% de memoria)\n",
    "* Espacio final tras procesamiento -> 5.844 MB\n",
    "* Memoria en almacenamiento ocupada por el .jams -> 10 MB"
   ]
  }
 ],
 "metadata": {
  "kernelspec": {
   "display_name": ".venv",
   "language": "python",
   "name": "python3"
  },
  "language_info": {
   "codemirror_mode": {
    "name": "ipython",
    "version": 3
   },
   "file_extension": ".py",
   "mimetype": "text/x-python",
   "name": "python",
   "nbconvert_exporter": "python",
   "pygments_lexer": "ipython3",
   "version": "3.11.0"
  }
 },
 "nbformat": 4,
 "nbformat_minor": 2
}
