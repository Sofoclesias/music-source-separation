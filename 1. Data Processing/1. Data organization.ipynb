{
 "cells": [
  {
   "cell_type": "code",
   "execution_count": 1,
   "metadata": {},
   "outputs": [],
   "source": [
    "import numpy as np\n",
    "np.float_ = np.float64\n",
    "np.Inf = np.inf\n",
    "import os\n",
    "import soundfile as sf\n",
    "from tqdm import tqdm\n",
    "import pandas as pd\n",
    "import os\n",
    "import re\n",
    "from utils import *"
   ]
  },
  {
   "cell_type": "markdown",
   "metadata": {},
   "source": [
    "## 1. Adquisición y organización de los datasets"
   ]
  },
  {
   "cell_type": "code",
   "execution_count": 2,
   "metadata": {},
   "outputs": [],
   "source": [
    "datasets, musdb18, musicnet, synthsod = [], [], [], []\n",
    "\n",
    "for root, subdir, files in os.walk(r'untreated_dataset\\\\musdb18hq'):\n",
    "    for file in files:\n",
    "        if file in ['vocals.wav','drums.wav','bass.wav']:\n",
    "            musdb18.append(os.path.join(root,file))\n",
    "\n",
    "for root, subdir, files in os.walk(r'untreated_dataset\\\\musicnet'):\n",
    "    for file in files:\n",
    "        if '.wav' in file:\n",
    "            musicnet.append(os.path.join(root,file))\n",
    "\n",
    "for root, subdir, files in os.walk(r'untreated_dataset\\\\synthsod'):\n",
    "    if 'Tree' not in root:\n",
    "        continue\n",
    "    for file in files:\n",
    "        if '.flac' in file:\n",
    "            synthsod.append(os.path.join(root,file))\n",
    "            \n",
    "datasets.extend(musdb18)\n",
    "datasets.extend(musicnet)\n",
    "datasets.extend(synthsod)"
   ]
  },
  {
   "cell_type": "code",
   "execution_count": 3,
   "metadata": {},
   "outputs": [
    {
     "data": {
      "text/plain": [
       "stem\n",
       "strings      1853\n",
       "accoustic    1585\n",
       "              196\n",
       "piano         186\n",
       "Name: count, dtype: int64"
      ]
     },
     "execution_count": 3,
     "metadata": {},
     "output_type": "execute_result"
    }
   ],
   "source": [
    "# id | dataset | title | stem | spec | directory |\n",
    "\n",
    "def search(string):\n",
    "    stems_dict = {\n",
    "        'piano':['piano','harpsichord'],\n",
    "        'accoustic':['horn', 'trombone', 'trumpet', 'tuba', 'bassoon', 'clarinet', 'coranglais', 'flute', 'oboe', 'piccolo'],\n",
    "        'strings':['bass','cello','harp','viola','violin','violin_1','violin_2','string','strings']\n",
    "        }\n",
    "    \n",
    "    for key, stems in stems_dict.items():\n",
    "        for stem in stems:\n",
    "            if stem in string:\n",
    "                return key\n",
    "    return ''\n",
    "    \n",
    "metadata = {\n",
    "    'dataset':[],\n",
    "    'title':[],\n",
    "    'stem':[],\n",
    "    'spec':[],\n",
    "    'formerdir':[]\n",
    "}\n",
    "\n",
    "mn_metadata = pd.read_csv(r'untreated_dataset\\musicnet\\musicnet_metadata.csv')\n",
    "\n",
    "for direc in datasets:\n",
    "    parsed = re.split(r'\\\\+',direc)\n",
    "    \n",
    "    if 'musdb18hq' in direc:\n",
    "        metadata['dataset'] += ['musdb18hq']\n",
    "        metadata['title'] += [parsed[-2].lower()]\n",
    "        metadata['stem'] += [parsed[-1].split('.')[0]]\n",
    "        metadata['spec'] += [parsed[-1].split('.')[0]]\n",
    "        metadata['formerdir'] += [direc]\n",
    "    elif 'musicnet' in direc:\n",
    "        row = mn_metadata.loc[mn_metadata['id']==int(parsed[-1].split('.')[0])]\n",
    "        spec = row.iat[0,4].lower()\n",
    "        \n",
    "        metadata['dataset'] += ['musicnet']\n",
    "        metadata['title'] += [row['composition']]\n",
    "        metadata['stem'] += [search(spec)]\n",
    "        metadata['spec'] += [spec]\n",
    "        metadata['formerdir'] += [direc]\n",
    "    elif 'synthsod' in direc:\n",
    "        spec = parsed[-1].split('.')[0].lower()\n",
    "        \n",
    "        metadata['dataset'] += ['synthsod']\n",
    "        metadata['title'] += [parsed[-3]]\n",
    "        metadata['stem'] += [search(spec)]\n",
    "        metadata['spec'] += [spec]\n",
    "        metadata['formerdir'] += [direc]\n",
    "    else:\n",
    "        pass\n",
    "\n",
    "pd.DataFrame(metadata)['stem'].value_counts()"
   ]
  },
  {
   "cell_type": "code",
   "execution_count": 4,
   "metadata": {},
   "outputs": [
    {
     "data": {
      "text/html": [
       "<div>\n",
       "<style scoped>\n",
       "    .dataframe tbody tr th:only-of-type {\n",
       "        vertical-align: middle;\n",
       "    }\n",
       "\n",
       "    .dataframe tbody tr th {\n",
       "        vertical-align: top;\n",
       "    }\n",
       "\n",
       "    .dataframe thead th {\n",
       "        text-align: right;\n",
       "    }\n",
       "</style>\n",
       "<table border=\"1\" class=\"dataframe\">\n",
       "  <thead>\n",
       "    <tr style=\"text-align: right;\">\n",
       "      <th></th>\n",
       "      <th>dataset</th>\n",
       "      <th>title</th>\n",
       "      <th>stem</th>\n",
       "      <th>spec</th>\n",
       "      <th>formerdir</th>\n",
       "    </tr>\n",
       "  </thead>\n",
       "  <tbody>\n",
       "    <tr>\n",
       "      <th>0</th>\n",
       "      <td>synthsod</td>\n",
       "      <td>symphony_102_2_orch</td>\n",
       "      <td>strings</td>\n",
       "      <td>violin_1</td>\n",
       "      <td>untreated_dataset\\\\synthsod\\SynthSOD_data\\symp...</td>\n",
       "    </tr>\n",
       "    <tr>\n",
       "      <th>1</th>\n",
       "      <td>synthsod</td>\n",
       "      <td>string_quartet_9_2_orch</td>\n",
       "      <td>strings</td>\n",
       "      <td>violin_2</td>\n",
       "      <td>untreated_dataset\\\\synthsod\\SynthSOD_data\\stri...</td>\n",
       "    </tr>\n",
       "    <tr>\n",
       "      <th>2</th>\n",
       "      <td>synthsod</td>\n",
       "      <td>string_quartet_15_1_orch</td>\n",
       "      <td>strings</td>\n",
       "      <td>violin_2</td>\n",
       "      <td>untreated_dataset\\\\synthsod\\SynthSOD_data\\stri...</td>\n",
       "    </tr>\n",
       "    <tr>\n",
       "      <th>3</th>\n",
       "      <td>synthsod</td>\n",
       "      <td>minor_works_hess-245_orch</td>\n",
       "      <td>strings</td>\n",
       "      <td>violin_2</td>\n",
       "      <td>untreated_dataset\\\\synthsod\\SynthSOD_data\\mino...</td>\n",
       "    </tr>\n",
       "    <tr>\n",
       "      <th>4</th>\n",
       "      <td>synthsod</td>\n",
       "      <td>symphony_093_2_orch</td>\n",
       "      <td>strings</td>\n",
       "      <td>viola</td>\n",
       "      <td>untreated_dataset\\\\synthsod\\SynthSOD_data\\symp...</td>\n",
       "    </tr>\n",
       "    <tr>\n",
       "      <th>...</th>\n",
       "      <td>...</td>\n",
       "      <td>...</td>\n",
       "      <td>...</td>\n",
       "      <td>...</td>\n",
       "      <td>...</td>\n",
       "    </tr>\n",
       "    <tr>\n",
       "      <th>445</th>\n",
       "      <td>synthsod</td>\n",
       "      <td>symphony_6_3-5_orch</td>\n",
       "      <td>accoustic</td>\n",
       "      <td>flute</td>\n",
       "      <td>untreated_dataset\\\\synthsod\\SynthSOD_data\\symp...</td>\n",
       "    </tr>\n",
       "    <tr>\n",
       "      <th>446</th>\n",
       "      <td>synthsod</td>\n",
       "      <td>mass_in_f_3_orch</td>\n",
       "      <td>accoustic</td>\n",
       "      <td>trombone</td>\n",
       "      <td>untreated_dataset\\\\synthsod\\SynthSOD_data\\mass...</td>\n",
       "    </tr>\n",
       "    <tr>\n",
       "      <th>447</th>\n",
       "      <td>synthsod</td>\n",
       "      <td>symphony_2_3_orch</td>\n",
       "      <td>accoustic</td>\n",
       "      <td>horn</td>\n",
       "      <td>untreated_dataset\\\\synthsod\\SynthSOD_data\\symp...</td>\n",
       "    </tr>\n",
       "    <tr>\n",
       "      <th>448</th>\n",
       "      <td>synthsod</td>\n",
       "      <td>sonata_in_g_i_4_orch</td>\n",
       "      <td>accoustic</td>\n",
       "      <td>trombone</td>\n",
       "      <td>untreated_dataset\\\\synthsod\\SynthSOD_data\\sona...</td>\n",
       "    </tr>\n",
       "    <tr>\n",
       "      <th>449</th>\n",
       "      <td>synthsod</td>\n",
       "      <td>divertimento_270_1_orch</td>\n",
       "      <td>accoustic</td>\n",
       "      <td>oboe</td>\n",
       "      <td>untreated_dataset\\\\synthsod\\SynthSOD_data\\dive...</td>\n",
       "    </tr>\n",
       "  </tbody>\n",
       "</table>\n",
       "<p>450 rows × 5 columns</p>\n",
       "</div>"
      ],
      "text/plain": [
       "      dataset                      title       stem      spec  \\\n",
       "0    synthsod        symphony_102_2_orch    strings  violin_1   \n",
       "1    synthsod    string_quartet_9_2_orch    strings  violin_2   \n",
       "2    synthsod   string_quartet_15_1_orch    strings  violin_2   \n",
       "3    synthsod  minor_works_hess-245_orch    strings  violin_2   \n",
       "4    synthsod        symphony_093_2_orch    strings     viola   \n",
       "..        ...                        ...        ...       ...   \n",
       "445  synthsod        symphony_6_3-5_orch  accoustic     flute   \n",
       "446  synthsod           mass_in_f_3_orch  accoustic  trombone   \n",
       "447  synthsod          symphony_2_3_orch  accoustic      horn   \n",
       "448  synthsod       sonata_in_g_i_4_orch  accoustic  trombone   \n",
       "449  synthsod    divertimento_270_1_orch  accoustic      oboe   \n",
       "\n",
       "                                             formerdir  \n",
       "0    untreated_dataset\\\\synthsod\\SynthSOD_data\\symp...  \n",
       "1    untreated_dataset\\\\synthsod\\SynthSOD_data\\stri...  \n",
       "2    untreated_dataset\\\\synthsod\\SynthSOD_data\\stri...  \n",
       "3    untreated_dataset\\\\synthsod\\SynthSOD_data\\mino...  \n",
       "4    untreated_dataset\\\\synthsod\\SynthSOD_data\\symp...  \n",
       "..                                                 ...  \n",
       "445  untreated_dataset\\\\synthsod\\SynthSOD_data\\symp...  \n",
       "446  untreated_dataset\\\\synthsod\\SynthSOD_data\\mass...  \n",
       "447  untreated_dataset\\\\synthsod\\SynthSOD_data\\symp...  \n",
       "448  untreated_dataset\\\\synthsod\\SynthSOD_data\\sona...  \n",
       "449  untreated_dataset\\\\synthsod\\SynthSOD_data\\dive...  \n",
       "\n",
       "[450 rows x 5 columns]"
      ]
     },
     "execution_count": 4,
     "metadata": {},
     "output_type": "execute_result"
    }
   ],
   "source": [
    "df_meta = pd.DataFrame(metadata)\n",
    "df_meta = pd.concat([\n",
    "        df_meta.loc[df_meta['stem'].isin(['vocals','bass','drums'])],\n",
    "        df_meta.loc[df_meta['stem']=='strings'].sample(n=150),\n",
    "        df_meta.loc[df_meta['stem']=='piano'].sample(n=150),\n",
    "        df_meta.loc[df_meta['stem']=='accoustic'].sample(n=150)\n",
    "    ],axis=0,ignore_index=True)\n",
    "df_meta"
   ]
  },
  {
   "cell_type": "code",
   "execution_count": 12,
   "metadata": {},
   "outputs": [],
   "source": [
    "from pydub.utils import which\n",
    "from pydub import AudioSegment\n",
    "import shutil\n",
    "\n",
    "AudioSegment.converter = which(\"ffmpeg\")\n",
    "\n",
    "dirs = []\n",
    "for index, serie in df_meta.iterrows():\n",
    "    newdir = f\"stems/{serie['stem']}/{serie['stem']}_{serie['title']}_{index}.wav\"\n",
    "    if serie['dataset']=='synthsod':\n",
    "        flac = AudioSegment.from_file(serie['formerdir'],format=\"flac\")\n",
    "        flac.export(newdir, format='wav')\n",
    "    else:\n",
    "        try:\n",
    "            shutil.move(serie['formerdir'],newdir)\n",
    "        except:\n",
    "            pass\n",
    "        \n",
    "    dirs.append(newdir)\n",
    "    \n",
    "df_meta['newdir'] = dirs\n",
    "df_meta.to_json('metadata.json')"
   ]
  },
  {
   "cell_type": "markdown",
   "metadata": {},
   "source": [
    "## 2. Preparación y preprocesamiento de datos"
   ]
  },
  {
   "cell_type": "code",
   "execution_count": null,
   "metadata": {},
   "outputs": [],
   "source": [
    "file_count = sum(len(files) for _, _, files in os.walk('stems'))\n",
    "\n",
    "with tqdm(total=file_count) as pbar:\n",
    "    for root, _, files in os.walk('stems'):\n",
    "        for file in files:\n",
    "            path = os.path.join(root,file)\n",
    "            audio = remove_silence(path)\n",
    "            sf.write(path,audio,44100)\n",
    "            pbar.update(1)"
   ]
  },
  {
   "cell_type": "code",
   "execution_count": 2,
   "metadata": {},
   "outputs": [],
   "source": [
    "from utils import *\n",
    "import numpy as np\n",
    "import warnings\n",
    "warnings.filterwarnings('ignore')"
   ]
  },
  {
   "cell_type": "code",
   "execution_count": 3,
   "metadata": {},
   "outputs": [],
   "source": [
    "mixer = cacophony()\n",
    "#mixer.generate_random(3)\n",
    "#X, Y = mixer.read_from_jams()"
   ]
  },
  {
   "cell_type": "code",
   "execution_count": null,
   "metadata": {},
   "outputs": [],
   "source": []
  },
  {
   "cell_type": "code",
   "execution_count": 4,
   "metadata": {},
   "outputs": [
    {
     "name": "stdout",
     "output_type": "stream",
     "text": [
      "Reconstrucción de audios.\n"
     ]
    },
    {
     "name": "stderr",
     "output_type": "stream",
     "text": [
      "100%|██████████| 3/3 [00:08<00:00,  2.94s/it]\n"
     ]
    },
    {
     "ename": "ValueError",
     "evalue": "setting an array element with a sequence. The requested array has an inhomogeneous shape after 2 dimensions. The detected shape was (36, 2) + inhomogeneous part.",
     "output_type": "error",
     "traceback": [
      "\u001b[1;31m---------------------------------------------------------------------------\u001b[0m",
      "\u001b[1;31mValueError\u001b[0m                                Traceback (most recent call last)",
      "Cell \u001b[1;32mIn[4], line 1\u001b[0m\n\u001b[1;32m----> 1\u001b[0m X, Y \u001b[38;5;241m=\u001b[39m \u001b[43mmixer\u001b[49m\u001b[38;5;241;43m.\u001b[39;49m\u001b[43mread_from_jams\u001b[49m\u001b[43m(\u001b[49m\u001b[43m)\u001b[49m\n",
      "File \u001b[1;32md:\\Repos\\Universidad\\music-source-separation\\1. Data Processing\\utils.py:121\u001b[0m, in \u001b[0;36mcacophony.read_from_jams\u001b[1;34m(self, jams_path)\u001b[0m\n\u001b[0;32m    118\u001b[0m     os\u001b[38;5;241m.\u001b[39mremove(\u001b[38;5;124mr\u001b[39m\u001b[38;5;124m'\u001b[39m\u001b[38;5;124mtemp\u001b[39m\u001b[38;5;124m\\\u001b[39m\u001b[38;5;124mtemp.jams\u001b[39m\u001b[38;5;124m'\u001b[39m)\n\u001b[0;32m    120\u001b[0m X \u001b[38;5;241m=\u001b[39m np\u001b[38;5;241m.\u001b[39marray(mixtures)\n\u001b[1;32m--> 121\u001b[0m Y \u001b[38;5;241m=\u001b[39m np\u001b[38;5;241m.\u001b[39marray(stems)\n\u001b[0;32m    122\u001b[0m shutil\u001b[38;5;241m.\u001b[39mrmtree(\u001b[38;5;124m'\u001b[39m\u001b[38;5;124mtemp\u001b[39m\u001b[38;5;124m'\u001b[39m)\n\u001b[0;32m    124\u001b[0m \u001b[38;5;28;01mreturn\u001b[39;00m X, Y\n",
      "\u001b[1;31mValueError\u001b[0m: setting an array element with a sequence. The requested array has an inhomogeneous shape after 2 dimensions. The detected shape was (36, 2) + inhomogeneous part."
     ]
    }
   ],
   "source": [
    "X, Y = mixer.read_from_jams()"
   ]
  },
  {
   "cell_type": "code",
   "execution_count": 133,
   "metadata": {},
   "outputs": [
    {
     "name": "stdout",
     "output_type": "stream",
     "text": [
      "Reconstrucción de audios.\n"
     ]
    },
    {
     "name": "stderr",
     "output_type": "stream",
     "text": [
      "100%|██████████| 3/3 [00:09<00:00,  3.01s/it]\n"
     ]
    },
    {
     "ename": "ValueError",
     "evalue": "setting an array element with a sequence. The requested array has an inhomogeneous shape after 2 dimensions. The detected shape was (3, 220500) + inhomogeneous part.",
     "output_type": "error",
     "traceback": [
      "\u001b[1;31m---------------------------------------------------------------------------\u001b[0m",
      "\u001b[1;31mValueError\u001b[0m                                Traceback (most recent call last)",
      "Cell \u001b[1;32mIn[133], line 33\u001b[0m\n\u001b[0;32m     30\u001b[0m     os\u001b[38;5;241m.\u001b[39mremove(\u001b[38;5;124mr\u001b[39m\u001b[38;5;124m'\u001b[39m\u001b[38;5;124mtemp\u001b[39m\u001b[38;5;124m\\\u001b[39m\u001b[38;5;124mtemp.jams\u001b[39m\u001b[38;5;124m'\u001b[39m)\n\u001b[0;32m     32\u001b[0m X \u001b[38;5;241m=\u001b[39m np\u001b[38;5;241m.\u001b[39marray(mixtures)\n\u001b[1;32m---> 33\u001b[0m Y \u001b[38;5;241m=\u001b[39m \u001b[43mnp\u001b[49m\u001b[38;5;241;43m.\u001b[39;49m\u001b[43marray\u001b[49m\u001b[43m(\u001b[49m\u001b[43mstems\u001b[49m\u001b[43m)\u001b[49m\n\u001b[0;32m     34\u001b[0m shutil\u001b[38;5;241m.\u001b[39mrmtree(\u001b[38;5;124m'\u001b[39m\u001b[38;5;124mtemp\u001b[39m\u001b[38;5;124m'\u001b[39m)\n",
      "\u001b[1;31mValueError\u001b[0m: setting an array element with a sequence. The requested array has an inhomogeneous shape after 2 dimensions. The detected shape was (3, 220500) + inhomogeneous part."
     ]
    }
   ],
   "source": [
    "jams_path = 'soundscapes.jams'\n",
    "\n",
    "if not os.path.exists('temp'):\n",
    "    print('Creada carpeta temporal para resguardar memoria.\\n')\n",
    "    os.makedirs('temp',exist_ok=True)\n",
    "\n",
    "mixtures = []\n",
    "stems = []\n",
    "\n",
    "print('Reconstrucción de audios.')\n",
    "for ann in tqdm(jams.load(jams_path,strict=False).annotations):\n",
    "    temp = jams.JAMS()\n",
    "    temp.annotations.append(ann)\n",
    "    temp.file_metadata.duration = 5.0\n",
    "    temp.save(r'temp\\temp.jams',strict=False)\n",
    "\n",
    "    mix_audio, _, _, stem_list = scaper.generate_from_jams(\n",
    "        jams_infile = r'temp\\temp.jams',\n",
    "        fg_path = 'stems',\n",
    "        bg_path = 'stems'\n",
    "    )\n",
    "    \n",
    "    mixtures.append(normalize_track(mix_audio))\n",
    "\n",
    "    stem = np.empty((220500,1),dtype='float64')\n",
    "    for obs, stem_audio in zip(ann.data,stem_list):    \n",
    "        stem = np.hstack((stem,normalize_track(stem_audio)))\n",
    "    stems.append(stem)\n",
    "    \n",
    "    os.remove(r'temp\\temp.jams')\n",
    "\n",
    "X = np.array(mixtures)\n",
    "Y = np.array(stems)\n",
    "shutil.rmtree('temp')"
   ]
  },
  {
   "cell_type": "code",
   "execution_count": 138,
   "metadata": {},
   "outputs": [
    {
     "data": {
      "text/plain": [
       "7"
      ]
     },
     "execution_count": 138,
     "metadata": {},
     "output_type": "execute_result"
    }
   ],
   "source": [
    "len(stems[0][0])"
   ]
  },
  {
   "cell_type": "code",
   "execution_count": 130,
   "metadata": {},
   "outputs": [
    {
     "data": {
      "text/plain": [
       "24"
      ]
     },
     "execution_count": 130,
     "metadata": {},
     "output_type": "execute_result"
    }
   ],
   "source": [
    "len(stems[2][0])"
   ]
  },
  {
   "cell_type": "code",
   "execution_count": 117,
   "metadata": {},
   "outputs": [
    {
     "data": {
      "text/plain": [
       "(12, 220500)"
      ]
     },
     "execution_count": 117,
     "metadata": {},
     "output_type": "execute_result"
    }
   ],
   "source": [
    "stems[0].shape"
   ]
  },
  {
   "cell_type": "code",
   "execution_count": 114,
   "metadata": {},
   "outputs": [
    {
     "data": {
      "text/plain": [
       "220500"
      ]
     },
     "execution_count": 114,
     "metadata": {},
     "output_type": "execute_result"
    }
   ],
   "source": [
    "len(stems[0][0])"
   ]
  },
  {
   "cell_type": "code",
   "execution_count": null,
   "metadata": {},
   "outputs": [],
   "source": [
    "files, "
   ]
  },
  {
   "cell_type": "code",
   "execution_count": 82,
   "metadata": {},
   "outputs": [
    {
     "data": {
      "text/plain": [
       "array([[[0, 1, 2, 3, 4, 5]]])"
      ]
     },
     "execution_count": 82,
     "metadata": {},
     "output_type": "execute_result"
    }
   ],
   "source": [
    "np.vstack([[0,1,2,3,4,5],])[:,np.newaxis]"
   ]
  },
  {
   "cell_type": "code",
   "execution_count": 66,
   "metadata": {},
   "outputs": [
    {
     "data": {
      "text/plain": [
       "(220500, 6)"
      ]
     },
     "execution_count": 66,
     "metadata": {},
     "output_type": "execute_result"
    }
   ],
   "source": [
    "np.hstack([stems[0][i][0] for i in range(6)]).shape"
   ]
  },
  {
   "cell_type": "code",
   "execution_count": 56,
   "metadata": {},
   "outputs": [
    {
     "data": {
      "text/plain": [
       "[[[array([[-0.00000000e+00],\n",
       "          [-3.38954341e-05],\n",
       "          [-2.49629255e-05],\n",
       "          ...,\n",
       "          [-4.45981952e-06],\n",
       "          [-2.65996287e-06],\n",
       "          [-0.00000000e+00]]),\n",
       "   0],\n",
       "  [array([[-0.00000000e+00],\n",
       "          [-7.66287842e-06],\n",
       "          [-1.41657851e-05],\n",
       "          ...,\n",
       "          [ 0.00000000e+00],\n",
       "          [ 0.00000000e+00],\n",
       "          [ 0.00000000e+00]]),\n",
       "   1],\n",
       "  [array([[0.        ],\n",
       "          [0.00047837],\n",
       "          [0.00086644],\n",
       "          ...,\n",
       "          [0.        ],\n",
       "          [0.        ],\n",
       "          [0.        ]]),\n",
       "   2],\n",
       "  [array([[ 0.00000000e+00],\n",
       "          [ 2.56746997e-04],\n",
       "          [ 3.83346151e-04],\n",
       "          ...,\n",
       "          [ 4.87598692e-07],\n",
       "          [-9.34382347e-08],\n",
       "          [-5.31677445e-08]]),\n",
       "   3],\n",
       "  [array([[-0.00000000e+00],\n",
       "          [-2.39401448e-05],\n",
       "          [-3.89293407e-05],\n",
       "          ...,\n",
       "          [ 0.00000000e+00],\n",
       "          [ 0.00000000e+00],\n",
       "          [ 0.00000000e+00]]),\n",
       "   4],\n",
       "  [array([[0.00000000e+00],\n",
       "          [4.56469293e-05],\n",
       "          [1.23787670e-04],\n",
       "          ...,\n",
       "          [0.00000000e+00],\n",
       "          [0.00000000e+00],\n",
       "          [0.00000000e+00]]),\n",
       "   5]],\n",
       " [[array([[-0.00000000e+00],\n",
       "          [-1.15935026e-04],\n",
       "          [-8.52906674e-05],\n",
       "          ...,\n",
       "          [ 0.00000000e+00],\n",
       "          [ 0.00000000e+00],\n",
       "          [ 0.00000000e+00]]),\n",
       "   0],\n",
       "  [array([[0.00000000e+00],\n",
       "          [3.02790972e-06],\n",
       "          [5.51500235e-06],\n",
       "          ...,\n",
       "          [0.00000000e+00],\n",
       "          [0.00000000e+00],\n",
       "          [0.00000000e+00]]),\n",
       "   1],\n",
       "  [array([[0.        ],\n",
       "          [0.00082259],\n",
       "          [0.00131512],\n",
       "          ...,\n",
       "          [0.        ],\n",
       "          [0.        ],\n",
       "          [0.        ]]),\n",
       "   2],\n",
       "  [array([[-0.00000000e+00],\n",
       "          [-2.11563699e-05],\n",
       "          [-1.97466591e-05],\n",
       "          ...,\n",
       "          [ 0.00000000e+00],\n",
       "          [ 0.00000000e+00],\n",
       "          [ 0.00000000e+00]]),\n",
       "   3],\n",
       "  [array([[-0.        ],\n",
       "          [-0.00039824],\n",
       "          [-0.00073175],\n",
       "          ...,\n",
       "          [ 0.        ],\n",
       "          [ 0.        ],\n",
       "          [ 0.        ]]),\n",
       "   4],\n",
       "  [array([[-0.00000000e+00],\n",
       "          [-1.10070561e-04],\n",
       "          [-1.53977954e-04],\n",
       "          ...,\n",
       "          [ 9.30033197e-05],\n",
       "          [ 2.98124036e-05],\n",
       "          [-0.00000000e+00]]),\n",
       "   5],\n",
       "  [array([[0.00000000e+00],\n",
       "          [3.14719010e-06],\n",
       "          [5.55177378e-06],\n",
       "          ...,\n",
       "          [0.00000000e+00],\n",
       "          [0.00000000e+00],\n",
       "          [0.00000000e+00]]),\n",
       "   0],\n",
       "  [array([[-0.00000000e+00],\n",
       "          [-5.08483053e-06],\n",
       "          [-8.59964795e-06],\n",
       "          ...,\n",
       "          [ 0.00000000e+00],\n",
       "          [ 0.00000000e+00],\n",
       "          [ 0.00000000e+00]]),\n",
       "   1],\n",
       "  [array([[-0.00000000e+00],\n",
       "          [-1.58414319e-05],\n",
       "          [-2.57106891e-05],\n",
       "          ...,\n",
       "          [ 0.00000000e+00],\n",
       "          [ 0.00000000e+00],\n",
       "          [ 0.00000000e+00]]),\n",
       "   2],\n",
       "  [array([[0.00000000e+00],\n",
       "          [4.23073125e-05],\n",
       "          [8.16807134e-05],\n",
       "          ...,\n",
       "          [0.00000000e+00],\n",
       "          [0.00000000e+00],\n",
       "          [0.00000000e+00]]),\n",
       "   3],\n",
       "  [array([[-0.00000000e+00],\n",
       "          [-2.88434710e-05],\n",
       "          [-2.36386362e-05],\n",
       "          ...,\n",
       "          [ 0.00000000e+00],\n",
       "          [ 0.00000000e+00],\n",
       "          [ 0.00000000e+00]]),\n",
       "   4],\n",
       "  [array([[-0.00000000e+00],\n",
       "          [-4.07094344e-05],\n",
       "          [-8.06198538e-05],\n",
       "          ...,\n",
       "          [ 0.00000000e+00],\n",
       "          [ 0.00000000e+00],\n",
       "          [ 0.00000000e+00]]),\n",
       "   5]],\n",
       " [[array([[0.        ],\n",
       "          [0.00048241],\n",
       "          [0.00072774],\n",
       "          ...,\n",
       "          [0.        ],\n",
       "          [0.        ],\n",
       "          [0.        ]]),\n",
       "   0],\n",
       "  [array([[-0.00000000e+00],\n",
       "          [-2.92877911e-05],\n",
       "          [-4.97897756e-05],\n",
       "          ...,\n",
       "          [ 0.00000000e+00],\n",
       "          [ 0.00000000e+00],\n",
       "          [ 0.00000000e+00]]),\n",
       "   1],\n",
       "  [array([[ 0.00000000e+00],\n",
       "          [-3.28479214e-06],\n",
       "          [ 7.84865658e-06],\n",
       "          ...,\n",
       "          [ 0.00000000e+00],\n",
       "          [ 0.00000000e+00],\n",
       "          [ 0.00000000e+00]]),\n",
       "   2],\n",
       "  [array([[-0.00000000e+00],\n",
       "          [-9.76224672e-05],\n",
       "          [-1.43613842e-04],\n",
       "          ...,\n",
       "          [ 0.00000000e+00],\n",
       "          [ 0.00000000e+00],\n",
       "          [ 0.00000000e+00]]),\n",
       "   3],\n",
       "  [array([[ 0.00000000e+00],\n",
       "          [-7.78937766e-06],\n",
       "          [-6.91891559e-05],\n",
       "          ...,\n",
       "          [ 0.00000000e+00],\n",
       "          [ 0.00000000e+00],\n",
       "          [ 0.00000000e+00]]),\n",
       "   4],\n",
       "  [array([[0.        ],\n",
       "          [0.00011093],\n",
       "          [0.00015325],\n",
       "          ...,\n",
       "          [0.        ],\n",
       "          [0.        ],\n",
       "          [0.        ]]),\n",
       "   5],\n",
       "  [array([[0.00000000e+00],\n",
       "          [9.02578027e-05],\n",
       "          [1.40756046e-04],\n",
       "          ...,\n",
       "          [0.00000000e+00],\n",
       "          [0.00000000e+00],\n",
       "          [0.00000000e+00]]),\n",
       "   0],\n",
       "  [array([[0.        ],\n",
       "          [0.00020251],\n",
       "          [0.00034914],\n",
       "          ...,\n",
       "          [0.        ],\n",
       "          [0.        ],\n",
       "          [0.        ]]),\n",
       "   1],\n",
       "  [array([[0.00000000e+00],\n",
       "          [6.28520880e-06],\n",
       "          [6.34694289e-06],\n",
       "          ...,\n",
       "          [0.00000000e+00],\n",
       "          [0.00000000e+00],\n",
       "          [0.00000000e+00]]),\n",
       "   2],\n",
       "  [array([[-0.00000000e+00],\n",
       "          [-2.51472304e-05],\n",
       "          [-3.12145673e-05],\n",
       "          ...,\n",
       "          [ 0.00000000e+00],\n",
       "          [ 0.00000000e+00],\n",
       "          [ 0.00000000e+00]]),\n",
       "   3],\n",
       "  [array([[0.0000000e+00],\n",
       "          [5.6839038e-05],\n",
       "          [1.1937334e-04],\n",
       "          ...,\n",
       "          [0.0000000e+00],\n",
       "          [0.0000000e+00],\n",
       "          [0.0000000e+00]]),\n",
       "   4],\n",
       "  [array([[-0.00000000e+00],\n",
       "          [-4.74597694e-06],\n",
       "          [-7.84140292e-06],\n",
       "          ...,\n",
       "          [ 0.00000000e+00],\n",
       "          [ 0.00000000e+00],\n",
       "          [ 0.00000000e+00]]),\n",
       "   5],\n",
       "  [array([[-0.00000000e+00],\n",
       "          [-7.10769217e-05],\n",
       "          [-1.40651802e-04],\n",
       "          ...,\n",
       "          [ 0.00000000e+00],\n",
       "          [ 0.00000000e+00],\n",
       "          [ 0.00000000e+00]]),\n",
       "   0],\n",
       "  [array([[0.00000000e+00],\n",
       "          [8.42515022e-05],\n",
       "          [1.38803584e-04],\n",
       "          ...,\n",
       "          [0.00000000e+00],\n",
       "          [0.00000000e+00],\n",
       "          [0.00000000e+00]]),\n",
       "   1],\n",
       "  [array([[0.        ],\n",
       "          [0.00038055],\n",
       "          [0.00059797],\n",
       "          ...,\n",
       "          [0.        ],\n",
       "          [0.        ],\n",
       "          [0.        ]]),\n",
       "   2],\n",
       "  [array([[-0.00000000e+00],\n",
       "          [-5.52620447e-05],\n",
       "          [-7.76743975e-05],\n",
       "          ...,\n",
       "          [ 0.00000000e+00],\n",
       "          [ 0.00000000e+00],\n",
       "          [ 0.00000000e+00]]),\n",
       "   3],\n",
       "  [array([[0.00000000e+00],\n",
       "          [3.76671954e-06],\n",
       "          [6.40115574e-06],\n",
       "          ...,\n",
       "          [0.00000000e+00],\n",
       "          [0.00000000e+00],\n",
       "          [0.00000000e+00]]),\n",
       "   4],\n",
       "  [array([[-0.        ],\n",
       "          [-0.00014917],\n",
       "          [-0.0002666 ],\n",
       "          ...,\n",
       "          [ 0.        ],\n",
       "          [ 0.        ],\n",
       "          [ 0.        ]]),\n",
       "   5]]]"
      ]
     },
     "execution_count": 56,
     "metadata": {},
     "output_type": "execute_result"
    }
   ],
   "source": [
    "stems"
   ]
  },
  {
   "cell_type": "code",
   "execution_count": 21,
   "metadata": {},
   "outputs": [
    {
     "data": {
      "text/plain": [
       "array([[0., 0., 0., ..., 0., 0., 0.]])"
      ]
     },
     "execution_count": 21,
     "metadata": {},
     "output_type": "execute_result"
    }
   ],
   "source": [
    "np.empty((1,220500))"
   ]
  },
  {
   "cell_type": "code",
   "execution_count": 58,
   "metadata": {},
   "outputs": [
    {
     "data": {
      "text/plain": [
       "[array([[-0.00000000e+00],\n",
       "        [-3.38954341e-05],\n",
       "        [-2.49629255e-05],\n",
       "        ...,\n",
       "        [-4.45981952e-06],\n",
       "        [-2.65996287e-06],\n",
       "        [-0.00000000e+00]]),\n",
       " 0]"
      ]
     },
     "execution_count": 58,
     "metadata": {},
     "output_type": "execute_result"
    }
   ],
   "source": [
    "stems[0][0]"
   ]
  },
  {
   "cell_type": "code",
   "execution_count": 9,
   "metadata": {},
   "outputs": [
    {
     "data": {
      "text/plain": [
       "3"
      ]
     },
     "execution_count": 9,
     "metadata": {},
     "output_type": "execute_result"
    }
   ],
   "source": [
    "len(stems)"
   ]
  },
  {
   "cell_type": "code",
   "execution_count": 29,
   "metadata": {},
   "outputs": [
    {
     "data": {
      "text/plain": [
       "dtype('float64')"
      ]
     },
     "execution_count": 29,
     "metadata": {},
     "output_type": "execute_result"
    }
   ],
   "source": [
    "stem[0][1].dtype"
   ]
  },
  {
   "cell_type": "code",
   "execution_count": 25,
   "metadata": {},
   "outputs": [
    {
     "data": {
      "text/plain": [
       "[0,\n",
       " array([[0.        ],\n",
       "        [0.00048241],\n",
       "        [0.00072774],\n",
       "        ...,\n",
       "        [0.        ],\n",
       "        [0.        ],\n",
       "        [0.        ]])]"
      ]
     },
     "execution_count": 25,
     "metadata": {},
     "output_type": "execute_result"
    }
   ],
   "source": [
    "stem["
   ]
  },
  {
   "cell_type": "code",
   "execution_count": 27,
   "metadata": {},
   "outputs": [
    {
     "ename": "ValueError",
     "evalue": "setting an array element with a sequence. The requested array has an inhomogeneous shape after 2 dimensions. The detected shape was (18, 2) + inhomogeneous part.",
     "output_type": "error",
     "traceback": [
      "\u001b[1;31m---------------------------------------------------------------------------\u001b[0m",
      "\u001b[1;31mValueError\u001b[0m                                Traceback (most recent call last)",
      "Cell \u001b[1;32mIn[27], line 1\u001b[0m\n\u001b[1;32m----> 1\u001b[0m \u001b[43mnp\u001b[49m\u001b[38;5;241;43m.\u001b[39;49m\u001b[43marray\u001b[49m\u001b[43m(\u001b[49m\u001b[43mstem\u001b[49m\u001b[43m)\u001b[49m\n",
      "\u001b[1;31mValueError\u001b[0m: setting an array element with a sequence. The requested array has an inhomogeneous shape after 2 dimensions. The detected shape was (18, 2) + inhomogeneous part."
     ]
    }
   ],
   "source": [
    "np.array(stem)"
   ]
  },
  {
   "cell_type": "code",
   "execution_count": 26,
   "metadata": {},
   "outputs": [
    {
     "name": "stdout",
     "output_type": "stream",
     "text": [
      "Número instrumentos: 0\n",
      "Cantidad dimensional: 220500\n",
      "\n",
      "\n",
      "Número instrumentos: 1\n",
      "Cantidad dimensional: 220500\n",
      "\n",
      "\n",
      "Número instrumentos: 2\n",
      "Cantidad dimensional: 220500\n",
      "\n",
      "\n",
      "Número instrumentos: 3\n",
      "Cantidad dimensional: 220500\n",
      "\n",
      "\n",
      "Número instrumentos: 4\n",
      "Cantidad dimensional: 220500\n",
      "\n",
      "\n",
      "Número instrumentos: 5\n",
      "Cantidad dimensional: 220500\n",
      "\n",
      "\n",
      "Número instrumentos: 0\n",
      "Cantidad dimensional: 220500\n",
      "\n",
      "\n",
      "Número instrumentos: 1\n",
      "Cantidad dimensional: 220500\n",
      "\n",
      "\n",
      "Número instrumentos: 2\n",
      "Cantidad dimensional: 220500\n",
      "\n",
      "\n",
      "Número instrumentos: 3\n",
      "Cantidad dimensional: 220500\n",
      "\n",
      "\n",
      "Número instrumentos: 4\n",
      "Cantidad dimensional: 220500\n",
      "\n",
      "\n",
      "Número instrumentos: 5\n",
      "Cantidad dimensional: 220500\n",
      "\n",
      "\n",
      "Número instrumentos: 0\n",
      "Cantidad dimensional: 220500\n",
      "\n",
      "\n",
      "Número instrumentos: 1\n",
      "Cantidad dimensional: 220500\n",
      "\n",
      "\n",
      "Número instrumentos: 2\n",
      "Cantidad dimensional: 220500\n",
      "\n",
      "\n",
      "Número instrumentos: 3\n",
      "Cantidad dimensional: 220500\n",
      "\n",
      "\n",
      "Número instrumentos: 4\n",
      "Cantidad dimensional: 220500\n",
      "\n",
      "\n",
      "Número instrumentos: 5\n",
      "Cantidad dimensional: 220500\n",
      "\n",
      "\n"
     ]
    }
   ],
   "source": [
    "for item in stem:\n",
    "    print(f'Número instrumentos: {item[0]}')\n",
    "    print(f'Cantidad dimensional: {len(item[1])}')\n",
    "    print('\\n')"
   ]
  },
  {
   "cell_type": "code",
   "execution_count": 15,
   "metadata": {},
   "outputs": [
    {
     "data": {
      "text/plain": [
       "6"
      ]
     },
     "execution_count": 15,
     "metadata": {},
     "output_type": "execute_result"
    }
   ],
   "source": [
    "len(stems[0])"
   ]
  },
  {
   "cell_type": "code",
   "execution_count": 11,
   "metadata": {},
   "outputs": [
    {
     "ename": "AttributeError",
     "evalue": "'list' object has no attribute 'shape'",
     "output_type": "error",
     "traceback": [
      "\u001b[1;31m---------------------------------------------------------------------------\u001b[0m",
      "\u001b[1;31mAttributeError\u001b[0m                            Traceback (most recent call last)",
      "Cell \u001b[1;32mIn[11], line 1\u001b[0m\n\u001b[1;32m----> 1\u001b[0m \u001b[43mstems\u001b[49m\u001b[38;5;241;43m.\u001b[39;49m\u001b[43mshape\u001b[49m\n",
      "\u001b[1;31mAttributeError\u001b[0m: 'list' object has no attribute 'shape'"
     ]
    }
   ],
   "source": [
    "stems.shape"
   ]
  },
  {
   "cell_type": "code",
   "execution_count": 5,
   "metadata": {},
   "outputs": [
    {
     "ename": "NameError",
     "evalue": "name 'X' is not defined",
     "output_type": "error",
     "traceback": [
      "\u001b[1;31m---------------------------------------------------------------------------\u001b[0m",
      "\u001b[1;31mNameError\u001b[0m                                 Traceback (most recent call last)",
      "Cell \u001b[1;32mIn[5], line 1\u001b[0m\n\u001b[1;32m----> 1\u001b[0m \u001b[43mX\u001b[49m\n",
      "\u001b[1;31mNameError\u001b[0m: name 'X' is not defined"
     ]
    }
   ],
   "source": [
    "X"
   ]
  },
  {
   "cell_type": "code",
   "execution_count": 31,
   "metadata": {},
   "outputs": [
    {
     "name": "stdout",
     "output_type": "stream",
     "text": [
      "accoustic\n",
      "bass\n",
      "drums\n",
      "piano\n",
      "strings\n",
      "vocals\n"
     ]
    }
   ],
   "source": [
    "import jams\n",
    "\n"
   ]
  },
  {
   "cell_type": "code",
   "execution_count": 35,
   "metadata": {},
   "outputs": [
    {
     "data": {
      "text/plain": [
       "['soundscape_1.jams', 'soundscape_2.jams', 'soundscape_3.jams']"
      ]
     },
     "execution_count": 35,
     "metadata": {},
     "output_type": "execute_result"
    }
   ],
   "source": [
    "os.listdir('jams')"
   ]
  },
  {
   "cell_type": "code",
   "execution_count": 33,
   "metadata": {},
   "outputs": [],
   "source": [
    "all_jams = jams.JAMS()\n"
   ]
  },
  {
   "cell_type": "code",
   "execution_count": 34,
   "metadata": {},
   "outputs": [
    {
     "ename": "SchemaError",
     "evalue": "None is not of type 'number'\n\nFailed validating 'type' in schema['properties']['file_metadata']['properties']['duration']:\n    {'type': 'number', 'minimum': 0.0}\n\nOn instance['file_metadata']['duration']:\n    None",
     "output_type": "error",
     "traceback": [
      "\u001b[1;31m---------------------------------------------------------------------------\u001b[0m",
      "\u001b[1;31mValidationError\u001b[0m                           Traceback (most recent call last)",
      "File \u001b[1;32md:\\Repos\\Universidad\\music-source-separation\\.venv\\Lib\\site-packages\\jams\\core.py:1808\u001b[0m, in \u001b[0;36mJAMS.validate\u001b[1;34m(self, strict)\u001b[0m\n\u001b[0;32m   1807\u001b[0m \u001b[38;5;28;01mtry\u001b[39;00m:\n\u001b[1;32m-> 1808\u001b[0m     \u001b[43mschema\u001b[49m\u001b[38;5;241;43m.\u001b[39;49m\u001b[43mVALIDATOR\u001b[49m\u001b[38;5;241;43m.\u001b[39;49m\u001b[43mvalidate\u001b[49m\u001b[43m(\u001b[49m\u001b[38;5;28;43mself\u001b[39;49m\u001b[38;5;241;43m.\u001b[39;49m\u001b[43m__json_light__\u001b[49m\u001b[43m,\u001b[49m\u001b[43m \u001b[49m\u001b[43mschema\u001b[49m\u001b[38;5;241;43m.\u001b[39;49m\u001b[43mJAMS_SCHEMA\u001b[49m\u001b[43m)\u001b[49m\n\u001b[0;32m   1810\u001b[0m     \u001b[38;5;28;01mfor\u001b[39;00m ann \u001b[38;5;129;01min\u001b[39;00m \u001b[38;5;28mself\u001b[39m\u001b[38;5;241m.\u001b[39mannotations:\n",
      "File \u001b[1;32md:\\Repos\\Universidad\\music-source-separation\\.venv\\Lib\\site-packages\\jsonschema\\validators.py:451\u001b[0m, in \u001b[0;36mcreate.<locals>.Validator.validate\u001b[1;34m(self, *args, **kwargs)\u001b[0m\n\u001b[0;32m    450\u001b[0m \u001b[38;5;28;01mfor\u001b[39;00m error \u001b[38;5;129;01min\u001b[39;00m \u001b[38;5;28mself\u001b[39m\u001b[38;5;241m.\u001b[39miter_errors(\u001b[38;5;241m*\u001b[39margs, \u001b[38;5;241m*\u001b[39m\u001b[38;5;241m*\u001b[39mkwargs):\n\u001b[1;32m--> 451\u001b[0m     \u001b[38;5;28;01mraise\u001b[39;00m error\n",
      "\u001b[1;31mValidationError\u001b[0m: None is not of type 'number'\n\nFailed validating 'type' in schema['properties']['file_metadata']['properties']['duration']:\n    {'type': 'number', 'minimum': 0.0}\n\nOn instance['file_metadata']['duration']:\n    None",
      "\nDuring handling of the above exception, another exception occurred:\n",
      "\u001b[1;31mSchemaError\u001b[0m                               Traceback (most recent call last)",
      "Cell \u001b[1;32mIn[34], line 7\u001b[0m\n\u001b[0;32m      4\u001b[0m     \u001b[38;5;28;01mfor\u001b[39;00m annot \u001b[38;5;129;01min\u001b[39;00m jam\u001b[38;5;241m.\u001b[39mannotations:\n\u001b[0;32m      5\u001b[0m         all_jams\u001b[38;5;241m.\u001b[39mannotations\u001b[38;5;241m.\u001b[39mappend(annot)\n\u001b[1;32m----> 7\u001b[0m \u001b[43mall_jams\u001b[49m\u001b[38;5;241;43m.\u001b[39;49m\u001b[43msave\u001b[49m\u001b[43m(\u001b[49m\u001b[38;5;124;43m'\u001b[39;49m\u001b[38;5;124;43mhey.jams\u001b[39;49m\u001b[38;5;124;43m'\u001b[39;49m\u001b[43m)\u001b[49m\n",
      "File \u001b[1;32md:\\Repos\\Universidad\\music-source-separation\\.venv\\Lib\\site-packages\\jams\\core.py:1776\u001b[0m, in \u001b[0;36mJAMS.save\u001b[1;34m(self, path_or_file, strict, fmt)\u001b[0m\n\u001b[0;32m   1743\u001b[0m \u001b[38;5;28;01mdef\u001b[39;00m \u001b[38;5;21msave\u001b[39m(\u001b[38;5;28mself\u001b[39m, path_or_file, strict\u001b[38;5;241m=\u001b[39m\u001b[38;5;28;01mTrue\u001b[39;00m, fmt\u001b[38;5;241m=\u001b[39m\u001b[38;5;124m'\u001b[39m\u001b[38;5;124mauto\u001b[39m\u001b[38;5;124m'\u001b[39m):\n\u001b[0;32m   1744\u001b[0m \u001b[38;5;250m    \u001b[39m\u001b[38;5;124;03m\"\"\"Serialize annotation as a JSON formatted stream to file.\u001b[39;00m\n\u001b[0;32m   1745\u001b[0m \n\u001b[0;32m   1746\u001b[0m \u001b[38;5;124;03m    Parameters\u001b[39;00m\n\u001b[1;32m   (...)\u001b[0m\n\u001b[0;32m   1773\u001b[0m \u001b[38;5;124;03m    validate\u001b[39;00m\n\u001b[0;32m   1774\u001b[0m \u001b[38;5;124;03m    \"\"\"\u001b[39;00m\n\u001b[1;32m-> 1776\u001b[0m     \u001b[38;5;28;43mself\u001b[39;49m\u001b[38;5;241;43m.\u001b[39;49m\u001b[43mvalidate\u001b[49m\u001b[43m(\u001b[49m\u001b[43mstrict\u001b[49m\u001b[38;5;241;43m=\u001b[39;49m\u001b[43mstrict\u001b[49m\u001b[43m)\u001b[49m\n\u001b[0;32m   1778\u001b[0m     \u001b[38;5;28;01mwith\u001b[39;00m _open(path_or_file, mode\u001b[38;5;241m=\u001b[39m\u001b[38;5;124m'\u001b[39m\u001b[38;5;124mw\u001b[39m\u001b[38;5;124m'\u001b[39m, fmt\u001b[38;5;241m=\u001b[39mfmt) \u001b[38;5;28;01mas\u001b[39;00m fdesc:\n\u001b[0;32m   1779\u001b[0m         json\u001b[38;5;241m.\u001b[39mdump(\u001b[38;5;28mself\u001b[39m\u001b[38;5;241m.\u001b[39m__json__, fdesc, indent\u001b[38;5;241m=\u001b[39m\u001b[38;5;241m2\u001b[39m)\n",
      "File \u001b[1;32md:\\Repos\\Universidad\\music-source-separation\\.venv\\Lib\\site-packages\\jams\\core.py:1823\u001b[0m, in \u001b[0;36mJAMS.validate\u001b[1;34m(self, strict)\u001b[0m\n\u001b[0;32m   1821\u001b[0m \u001b[38;5;28;01mexcept\u001b[39;00m jsonschema\u001b[38;5;241m.\u001b[39mValidationError \u001b[38;5;28;01mas\u001b[39;00m invalid:\n\u001b[0;32m   1822\u001b[0m     \u001b[38;5;28;01mif\u001b[39;00m strict:\n\u001b[1;32m-> 1823\u001b[0m         \u001b[38;5;28;01mraise\u001b[39;00m SchemaError(\u001b[38;5;28mstr\u001b[39m(invalid))\n\u001b[0;32m   1824\u001b[0m     \u001b[38;5;28;01melse\u001b[39;00m:\n\u001b[0;32m   1825\u001b[0m         warnings\u001b[38;5;241m.\u001b[39mwarn(\u001b[38;5;28mstr\u001b[39m(invalid))\n",
      "\u001b[1;31mSchemaError\u001b[0m: None is not of type 'number'\n\nFailed validating 'type' in schema['properties']['file_metadata']['properties']['duration']:\n    {'type': 'number', 'minimum': 0.0}\n\nOn instance['file_metadata']['duration']:\n    None"
     ]
    }
   ],
   "source": [
    "for jams_file in [os.path.join('jams',f) for f in os.listdir('jams')]:\n",
    "    jam = jams.load(jams_file)\n",
    "    \n",
    "    for annot in jam.annotations:\n",
    "        all_jams.annotations.append(annot)\n",
    "        \n",
    "all_jams.save('hey.jams')"
   ]
  },
  {
   "cell_type": "code",
   "execution_count": 38,
   "metadata": {},
   "outputs": [],
   "source": [
    "all_jams.save('hey.jams',strict=False)"
   ]
  },
  {
   "cell_type": "code",
   "execution_count": 40,
   "metadata": {},
   "outputs": [],
   "source": [
    "a2 = jams.load('hey.jams',strict=False)"
   ]
  },
  {
   "cell_type": "code",
   "execution_count": 51,
   "metadata": {},
   "outputs": [],
   "source": [
    "temp = jams.JAMS()\n",
    "temp.annotations.append(a2.annotations[0])\n",
    "temp.save('prueba.jams',strict=False)"
   ]
  },
  {
   "cell_type": "code",
   "execution_count": 53,
   "metadata": {},
   "outputs": [
    {
     "data": {
      "text/plain": [
       "SortedKeyList([Observation(time=0.0, duration=5.0, value={'label': 'accoustic', 'source_file': 'stems\\\\accoustic\\\\accoustic_glagolitic_mass_1_orch_404.wav', 'source_time': 6.484106149593443, 'event_time': 0, 'event_duration': 4.796696849133465, 'snr': 1.5107702550194446, 'role': 'foreground', 'pitch_shift': 1.659838702175123, 'time_stretch': 1.0423839899124046}, confidence=1.0), Observation(time=0.0, duration=4.898901348276406, value={'label': 'bass', 'source_file': 'stems\\\\bass\\\\bass_lushlife - toynbee suite_300.wav', 'source_time': 0.6678708154328792, 'event_time': 0, 'event_duration': 5.0, 'snr': -1.2918174780173364, 'role': 'foreground', 'pitch_shift': 0.6753650106544291, 'time_stretch': 0.9797802696552813}, confidence=1.0), Observation(time=0.0, duration=5.0, value={'label': 'drums', 'source_file': 'stems\\\\drums\\\\drums_detsky sad - walkie talkie_34.wav', 'source_time': 4.462902299486492, 'event_time': 0, 'event_duration': 4.579415191538984, 'snr': 3.8721274257632654, 'role': 'foreground', 'pitch_shift': -0.11114029935220282, 'time_stretch': 1.0918424713352257}, confidence=1.0), Observation(time=0.0, duration=5.0, value={'label': 'piano', 'source_file': 'stems\\\\piano\\\\2488.wav', 'source_time': 5.942396769862587, 'event_time': 0, 'event_duration': 4.206329415085314, 'snr': 2.2172952116487323, 'role': 'foreground', 'pitch_shift': -1.056060321004177, 'time_stretch': 1.1886848381556414}, confidence=1.0), Observation(time=0.0, duration=4.9875911927287815, value={'label': 'strings', 'source_file': 'stems\\\\strings\\\\strings_symphony_9_4_orch_97.wav', 'source_time': 3.6591298056739583, 'event_time': 0, 'event_duration': 5.0, 'snr': -0.7245898164145039, 'role': 'foreground', 'pitch_shift': -1.8983234930236192, 'time_stretch': 0.9975182385457563}, confidence=1.0), Observation(time=0.0, duration=5.0, value={'label': 'vocals', 'source_file': 'stems\\\\vocals\\\\vocals_johnny lokke - promises & lies_284.wav', 'source_time': 3.3275915622747823, 'event_time': 0, 'event_duration': 4.316650716472817, 'snr': 0.6327557197638365, 'role': 'foreground', 'pitch_shift': 0.78206434570451, 'time_stretch': 1.1583054382694078}, confidence=1.0)], key=<bound method Annotation._key of <class 'jams.core.Annotation'>>)"
      ]
     },
     "execution_count": 53,
     "metadata": {},
     "output_type": "execute_result"
    }
   ],
   "source": [
    "a2.annotations[0].data"
   ]
  },
  {
   "cell_type": "code",
   "execution_count": 4,
   "metadata": {},
   "outputs": [
    {
     "data": {
      "text/plain": [
       "2205000"
      ]
     },
     "execution_count": 4,
     "metadata": {},
     "output_type": "execute_result"
    }
   ],
   "source": [
    "5*44100"
   ]
  },
  {
   "cell_type": "code",
   "execution_count": null,
   "metadata": {},
   "outputs": [],
   "source": []
  }
 ],
 "metadata": {
  "kernelspec": {
   "display_name": ".venv",
   "language": "python",
   "name": "python3"
  },
  "language_info": {
   "codemirror_mode": {
    "name": "ipython",
    "version": 3
   },
   "file_extension": ".py",
   "mimetype": "text/x-python",
   "name": "python",
   "nbconvert_exporter": "python",
   "pygments_lexer": "ipython3",
   "version": "3.11.0"
  }
 },
 "nbformat": 4,
 "nbformat_minor": 2
}
